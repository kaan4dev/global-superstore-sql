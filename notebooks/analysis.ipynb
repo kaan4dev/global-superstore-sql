{
 "cells": [
  {
   "cell_type": "code",
   "execution_count": 3,
   "id": "5c20cfde",
   "metadata": {},
   "outputs": [],
   "source": [
    "import pandas as pd\n",
    "import sqlite3\n",
    "from pathlib import Path"
   ]
  },
  {
   "cell_type": "code",
   "execution_count": 6,
   "id": "40b0ccec",
   "metadata": {},
   "outputs": [
    {
     "data": {
      "application/vnd.microsoft.datawrangler.viewer.v0+json": {
       "columns": [
        {
         "name": "index",
         "rawType": "int64",
         "type": "integer"
        },
        {
         "name": "Order ID",
         "rawType": "object",
         "type": "string"
        },
        {
         "name": "Order Date",
         "rawType": "object",
         "type": "string"
        },
        {
         "name": "Ship Date",
         "rawType": "object",
         "type": "string"
        },
        {
         "name": "Ship Mode",
         "rawType": "object",
         "type": "string"
        },
        {
         "name": "Customer ID",
         "rawType": "object",
         "type": "string"
        },
        {
         "name": "Product ID",
         "rawType": "object",
         "type": "string"
        },
        {
         "name": "Sales",
         "rawType": "float64",
         "type": "float"
        },
        {
         "name": "Quantity",
         "rawType": "int64",
         "type": "integer"
        },
        {
         "name": "Discount",
         "rawType": "float64",
         "type": "float"
        },
        {
         "name": "Profit",
         "rawType": "float64",
         "type": "float"
        },
        {
         "name": "Shipping Cost",
         "rawType": "float64",
         "type": "float"
        },
        {
         "name": "Order Priority",
         "rawType": "object",
         "type": "string"
        }
       ],
       "ref": "8445e558-95cd-4a63-8bd0-dfda1bd20e7d",
       "rows": [
        [
         "0",
         "CA-2012-124891",
         "2012-07-31 00:00:00",
         "2012-07-31 00:00:00",
         "Same Day",
         "RH-19495",
         "TEC-AC-10003033",
         "2309.65",
         "7",
         "0.0",
         "762.1845",
         "933.57",
         "Critical"
        ],
        [
         "1",
         "IN-2013-77878",
         "2013-02-05 00:00:00",
         "2013-02-07 00:00:00",
         "Second Class",
         "JR-16210",
         "FUR-CH-10003950",
         "3709.395",
         "9",
         "0.1",
         "-288.765",
         "923.63",
         "Critical"
        ],
        [
         "2",
         "IN-2013-71249",
         "2013-10-17 00:00:00",
         "2013-10-18 00:00:00",
         "First Class",
         "CR-12730",
         "TEC-PH-10004664",
         "5175.171",
         "9",
         "0.1",
         "919.971",
         "915.49",
         "Medium"
        ],
        [
         "3",
         "ES-2013-1579342",
         "2013-01-28 00:00:00",
         "2013-01-30 00:00:00",
         "First Class",
         "KM-16375",
         "TEC-PH-10004583",
         "2892.51",
         "5",
         "0.1",
         "-96.54",
         "910.16",
         "Medium"
        ],
        [
         "4",
         "SG-2013-4320",
         "2013-11-05 00:00:00",
         "2013-11-06 00:00:00",
         "Same Day",
         "RH-9495",
         "TEC-SHA-10000501",
         "2832.96",
         "8",
         "0.0",
         "311.52",
         "903.04",
         "Critical"
        ]
       ],
       "shape": {
        "columns": 12,
        "rows": 5
       }
      },
      "text/html": [
       "<div>\n",
       "<style scoped>\n",
       "    .dataframe tbody tr th:only-of-type {\n",
       "        vertical-align: middle;\n",
       "    }\n",
       "\n",
       "    .dataframe tbody tr th {\n",
       "        vertical-align: top;\n",
       "    }\n",
       "\n",
       "    .dataframe thead th {\n",
       "        text-align: right;\n",
       "    }\n",
       "</style>\n",
       "<table border=\"1\" class=\"dataframe\">\n",
       "  <thead>\n",
       "    <tr style=\"text-align: right;\">\n",
       "      <th></th>\n",
       "      <th>Order ID</th>\n",
       "      <th>Order Date</th>\n",
       "      <th>Ship Date</th>\n",
       "      <th>Ship Mode</th>\n",
       "      <th>Customer ID</th>\n",
       "      <th>Product ID</th>\n",
       "      <th>Sales</th>\n",
       "      <th>Quantity</th>\n",
       "      <th>Discount</th>\n",
       "      <th>Profit</th>\n",
       "      <th>Shipping Cost</th>\n",
       "      <th>Order Priority</th>\n",
       "    </tr>\n",
       "  </thead>\n",
       "  <tbody>\n",
       "    <tr>\n",
       "      <th>0</th>\n",
       "      <td>CA-2012-124891</td>\n",
       "      <td>2012-07-31 00:00:00</td>\n",
       "      <td>2012-07-31 00:00:00</td>\n",
       "      <td>Same Day</td>\n",
       "      <td>RH-19495</td>\n",
       "      <td>TEC-AC-10003033</td>\n",
       "      <td>2309.650</td>\n",
       "      <td>7</td>\n",
       "      <td>0.0</td>\n",
       "      <td>762.1845</td>\n",
       "      <td>933.57</td>\n",
       "      <td>Critical</td>\n",
       "    </tr>\n",
       "    <tr>\n",
       "      <th>1</th>\n",
       "      <td>IN-2013-77878</td>\n",
       "      <td>2013-02-05 00:00:00</td>\n",
       "      <td>2013-02-07 00:00:00</td>\n",
       "      <td>Second Class</td>\n",
       "      <td>JR-16210</td>\n",
       "      <td>FUR-CH-10003950</td>\n",
       "      <td>3709.395</td>\n",
       "      <td>9</td>\n",
       "      <td>0.1</td>\n",
       "      <td>-288.7650</td>\n",
       "      <td>923.63</td>\n",
       "      <td>Critical</td>\n",
       "    </tr>\n",
       "    <tr>\n",
       "      <th>2</th>\n",
       "      <td>IN-2013-71249</td>\n",
       "      <td>2013-10-17 00:00:00</td>\n",
       "      <td>2013-10-18 00:00:00</td>\n",
       "      <td>First Class</td>\n",
       "      <td>CR-12730</td>\n",
       "      <td>TEC-PH-10004664</td>\n",
       "      <td>5175.171</td>\n",
       "      <td>9</td>\n",
       "      <td>0.1</td>\n",
       "      <td>919.9710</td>\n",
       "      <td>915.49</td>\n",
       "      <td>Medium</td>\n",
       "    </tr>\n",
       "    <tr>\n",
       "      <th>3</th>\n",
       "      <td>ES-2013-1579342</td>\n",
       "      <td>2013-01-28 00:00:00</td>\n",
       "      <td>2013-01-30 00:00:00</td>\n",
       "      <td>First Class</td>\n",
       "      <td>KM-16375</td>\n",
       "      <td>TEC-PH-10004583</td>\n",
       "      <td>2892.510</td>\n",
       "      <td>5</td>\n",
       "      <td>0.1</td>\n",
       "      <td>-96.5400</td>\n",
       "      <td>910.16</td>\n",
       "      <td>Medium</td>\n",
       "    </tr>\n",
       "    <tr>\n",
       "      <th>4</th>\n",
       "      <td>SG-2013-4320</td>\n",
       "      <td>2013-11-05 00:00:00</td>\n",
       "      <td>2013-11-06 00:00:00</td>\n",
       "      <td>Same Day</td>\n",
       "      <td>RH-9495</td>\n",
       "      <td>TEC-SHA-10000501</td>\n",
       "      <td>2832.960</td>\n",
       "      <td>8</td>\n",
       "      <td>0.0</td>\n",
       "      <td>311.5200</td>\n",
       "      <td>903.04</td>\n",
       "      <td>Critical</td>\n",
       "    </tr>\n",
       "  </tbody>\n",
       "</table>\n",
       "</div>"
      ],
      "text/plain": [
       "          Order ID           Order Date            Ship Date     Ship Mode  \\\n",
       "0   CA-2012-124891  2012-07-31 00:00:00  2012-07-31 00:00:00      Same Day   \n",
       "1    IN-2013-77878  2013-02-05 00:00:00  2013-02-07 00:00:00  Second Class   \n",
       "2    IN-2013-71249  2013-10-17 00:00:00  2013-10-18 00:00:00   First Class   \n",
       "3  ES-2013-1579342  2013-01-28 00:00:00  2013-01-30 00:00:00   First Class   \n",
       "4     SG-2013-4320  2013-11-05 00:00:00  2013-11-06 00:00:00      Same Day   \n",
       "\n",
       "  Customer ID        Product ID     Sales  Quantity  Discount    Profit  \\\n",
       "0    RH-19495   TEC-AC-10003033  2309.650         7       0.0  762.1845   \n",
       "1    JR-16210   FUR-CH-10003950  3709.395         9       0.1 -288.7650   \n",
       "2    CR-12730   TEC-PH-10004664  5175.171         9       0.1  919.9710   \n",
       "3    KM-16375   TEC-PH-10004583  2892.510         5       0.1  -96.5400   \n",
       "4     RH-9495  TEC-SHA-10000501  2832.960         8       0.0  311.5200   \n",
       "\n",
       "   Shipping Cost Order Priority  \n",
       "0         933.57       Critical  \n",
       "1         923.63       Critical  \n",
       "2         915.49         Medium  \n",
       "3         910.16         Medium  \n",
       "4         903.04       Critical  "
      ]
     },
     "execution_count": 6,
     "metadata": {},
     "output_type": "execute_result"
    }
   ],
   "source": [
    "db_path = Path.cwd().parent / \"data\" / \"superstore.db\"\n",
    "\n",
    "conn = sqlite3.connect(db_path)\n",
    "\n",
    "pd.read_sql(\"SELECT * FROM orders LIMIT 5;\", conn)"
   ]
  },
  {
   "cell_type": "code",
   "execution_count": 9,
   "id": "33efc1b4",
   "metadata": {},
   "outputs": [
    {
     "data": {
      "application/vnd.microsoft.datawrangler.viewer.v0+json": {
       "columns": [
        {
         "name": "index",
         "rawType": "int64",
         "type": "integer"
        },
        {
         "name": "Region",
         "rawType": "object",
         "type": "string"
        },
        {
         "name": "total_sales",
         "rawType": "float64",
         "type": "float"
        }
       ],
       "ref": "1c169c6a-d666-4d58-922b-15821ff14885",
       "rows": [
        [
         "0",
         "Central",
         "79100858.58"
        ],
        [
         "1",
         "South",
         "47341907.84"
        ],
        [
         "2",
         "North",
         "34205163.33"
        ],
        [
         "3",
         "Oceania",
         "24125966.37"
        ],
        [
         "4",
         "West",
         "22150053.32"
        ],
        [
         "5",
         "Southeast Asia",
         "20513579.12"
        ],
        [
         "6",
         "East",
         "19426971.84"
        ],
        [
         "7",
         "North Asia",
         "16753345.89"
        ],
        [
         "8",
         "Central Asia",
         "14605091.07"
        ],
        [
         "9",
         "Caribbean",
         "11248458.34"
        ],
        [
         "10",
         "EMEA",
         "5979455.3"
        ],
        [
         "11",
         "Africa",
         "5338420.61"
        ],
        [
         "12",
         "Canada",
         "462421.67"
        ]
       ],
       "shape": {
        "columns": 2,
        "rows": 13
       }
      },
      "text/html": [
       "<div>\n",
       "<style scoped>\n",
       "    .dataframe tbody tr th:only-of-type {\n",
       "        vertical-align: middle;\n",
       "    }\n",
       "\n",
       "    .dataframe tbody tr th {\n",
       "        vertical-align: top;\n",
       "    }\n",
       "\n",
       "    .dataframe thead th {\n",
       "        text-align: right;\n",
       "    }\n",
       "</style>\n",
       "<table border=\"1\" class=\"dataframe\">\n",
       "  <thead>\n",
       "    <tr style=\"text-align: right;\">\n",
       "      <th></th>\n",
       "      <th>Region</th>\n",
       "      <th>total_sales</th>\n",
       "    </tr>\n",
       "  </thead>\n",
       "  <tbody>\n",
       "    <tr>\n",
       "      <th>0</th>\n",
       "      <td>Central</td>\n",
       "      <td>79100858.58</td>\n",
       "    </tr>\n",
       "    <tr>\n",
       "      <th>1</th>\n",
       "      <td>South</td>\n",
       "      <td>47341907.84</td>\n",
       "    </tr>\n",
       "    <tr>\n",
       "      <th>2</th>\n",
       "      <td>North</td>\n",
       "      <td>34205163.33</td>\n",
       "    </tr>\n",
       "    <tr>\n",
       "      <th>3</th>\n",
       "      <td>Oceania</td>\n",
       "      <td>24125966.37</td>\n",
       "    </tr>\n",
       "    <tr>\n",
       "      <th>4</th>\n",
       "      <td>West</td>\n",
       "      <td>22150053.32</td>\n",
       "    </tr>\n",
       "    <tr>\n",
       "      <th>5</th>\n",
       "      <td>Southeast Asia</td>\n",
       "      <td>20513579.12</td>\n",
       "    </tr>\n",
       "    <tr>\n",
       "      <th>6</th>\n",
       "      <td>East</td>\n",
       "      <td>19426971.84</td>\n",
       "    </tr>\n",
       "    <tr>\n",
       "      <th>7</th>\n",
       "      <td>North Asia</td>\n",
       "      <td>16753345.89</td>\n",
       "    </tr>\n",
       "    <tr>\n",
       "      <th>8</th>\n",
       "      <td>Central Asia</td>\n",
       "      <td>14605091.07</td>\n",
       "    </tr>\n",
       "    <tr>\n",
       "      <th>9</th>\n",
       "      <td>Caribbean</td>\n",
       "      <td>11248458.34</td>\n",
       "    </tr>\n",
       "    <tr>\n",
       "      <th>10</th>\n",
       "      <td>EMEA</td>\n",
       "      <td>5979455.30</td>\n",
       "    </tr>\n",
       "    <tr>\n",
       "      <th>11</th>\n",
       "      <td>Africa</td>\n",
       "      <td>5338420.61</td>\n",
       "    </tr>\n",
       "    <tr>\n",
       "      <th>12</th>\n",
       "      <td>Canada</td>\n",
       "      <td>462421.67</td>\n",
       "    </tr>\n",
       "  </tbody>\n",
       "</table>\n",
       "</div>"
      ],
      "text/plain": [
       "            Region  total_sales\n",
       "0          Central  79100858.58\n",
       "1            South  47341907.84\n",
       "2            North  34205163.33\n",
       "3          Oceania  24125966.37\n",
       "4             West  22150053.32\n",
       "5   Southeast Asia  20513579.12\n",
       "6             East  19426971.84\n",
       "7       North Asia  16753345.89\n",
       "8     Central Asia  14605091.07\n",
       "9        Caribbean  11248458.34\n",
       "10            EMEA   5979455.30\n",
       "11          Africa   5338420.61\n",
       "12          Canada    462421.67"
      ]
     },
     "execution_count": 9,
     "metadata": {},
     "output_type": "execute_result"
    }
   ],
   "source": [
    "query = \"\"\"\n",
    "SELECT c.\"Region\",\n",
    "       ROUND(SUM(o.\"Sales\"), 2) AS total_sales\n",
    "FROM \"Orders\" o\n",
    "JOIN \"Customers\" c ON o.\"Customer ID\" = c.\"Customer ID\"\n",
    "GROUP BY c.\"Region\"\n",
    "ORDER BY total_sales DESC;\n",
    "\"\"\"\n",
    "pd.read_sql(query, conn)\n"
   ]
  }
 ],
 "metadata": {
  "kernelspec": {
   "display_name": "venv",
   "language": "python",
   "name": "python3"
  },
  "language_info": {
   "codemirror_mode": {
    "name": "ipython",
    "version": 3
   },
   "file_extension": ".py",
   "mimetype": "text/x-python",
   "name": "python",
   "nbconvert_exporter": "python",
   "pygments_lexer": "ipython3",
   "version": "3.13.2"
  }
 },
 "nbformat": 4,
 "nbformat_minor": 5
}
